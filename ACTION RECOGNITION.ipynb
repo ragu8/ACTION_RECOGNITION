{
 "cells": [
  {
   "cell_type": "code",
   "execution_count": null,
   "metadata": {
    "_cell_guid": "b1076dfc-b9ad-4769-8c92-a6c4dae69d19",
    "_uuid": "8f2839f25d086af736a60e9eeb907d3b93b6e0e5",
    "execution": {
     "iopub.execute_input": "2021-10-19T18:35:19.441806Z",
     "iopub.status.busy": "2021-10-19T18:35:19.441381Z",
     "iopub.status.idle": "2021-10-19T18:35:24.557133Z",
     "shell.execute_reply": "2021-10-19T18:35:24.556403Z",
     "shell.execute_reply.started": "2021-10-19T18:35:19.441697Z"
    }
   },
   "outputs": [],
   "source": [
    "import cv2\n",
    "import glob\n",
    "import numpy as np\n",
    "import matplotlib.pyplot as plt\n",
    "from skimage.transform import resize\n",
    "from IPython.display import clear_output\n",
    "from matplotlib.pyplot import imshow\n",
    "import pandas as pd\n",
    "from tensorflow.keras.layers import *\n",
    "from tensorflow.keras.models import Sequential, Model\n",
    "from tensorflow.keras.utils import to_categorical\n",
    "from tensorflow.keras.losses import *\n",
    "from tensorflow.keras.optimizers import *\n",
    "from tensorflow.keras.activations import *\n",
    "from tensorflow.keras.metrics import *\n",
    "from sklearn.model_selection import train_test_split\n",
    "import tensorflow.keras as keras\n",
    "import tensorflow as tf\n",
    "from tensorflow.keras import backend as k\n",
    "import datetime"
   ]
  },
  {
   "cell_type": "markdown",
   "metadata": {},
   "source": [
    "<h1 style=\"text-align: center\"> Reading data </h1>"
   ]
  },
  {
   "cell_type": "code",
   "execution_count": null,
   "metadata": {
    "execution": {
     "iopub.execute_input": "2021-10-19T18:35:24.559329Z",
     "iopub.status.busy": "2021-10-19T18:35:24.558860Z",
     "iopub.status.idle": "2021-10-19T18:35:24.594659Z",
     "shell.execute_reply": "2021-10-19T18:35:24.593967Z",
     "shell.execute_reply.started": "2021-10-19T18:35:24.559295Z"
    }
   },
   "outputs": [],
   "source": [
    "train_df = pd.read_csv(\".//input/UCF101/TrainTestSplits-RecognitionTask/ucfTrainTestlist/trainlist01.txt\",sep = \" \",header = None,names = ['path','class'])"
   ]
  },
  {
   "cell_type": "code",
   "execution_count": null,
   "metadata": {
    "execution": {
     "iopub.execute_input": "2021-10-19T18:35:24.596365Z",
     "iopub.status.busy": "2021-10-19T18:35:24.596108Z",
     "iopub.status.idle": "2021-10-19T18:35:24.632622Z",
     "shell.execute_reply": "2021-10-19T18:35:24.631946Z",
     "shell.execute_reply.started": "2021-10-19T18:35:24.596331Z"
    }
   },
   "outputs": [],
   "source": [
    "#10 classes - 500 samples \n",
    "content = []\n",
    "i = 0\n",
    "n = 50\n",
    "while len(content) < 10 and i < 102:\n",
    "    if len(train_df[train_df['class']==i]) >= n:\n",
    "        df_temp = train_df[train_df['class']==i].iloc[:n]\n",
    "        path = df_temp['path']\n",
    "        content.append(path)\n",
    "        \n",
    "    i += 1\n",
    "    \n",
    "\n",
    "content = np.array(content)\n",
    "content\n"
   ]
  },
  {
   "cell_type": "code",
   "execution_count": null,
   "metadata": {
    "execution": {
     "iopub.execute_input": "2021-10-19T18:35:24.635283Z",
     "iopub.status.busy": "2021-10-19T18:35:24.634760Z",
     "iopub.status.idle": "2021-10-19T18:35:24.639889Z",
     "shell.execute_reply": "2021-10-19T18:35:24.639194Z",
     "shell.execute_reply.started": "2021-10-19T18:35:24.635247Z"
    }
   },
   "outputs": [],
   "source": [
    "content = content.reshape(500,)\n",
    "content"
   ]
  },
  {
   "cell_type": "code",
   "execution_count": null,
   "metadata": {
    "execution": {
     "iopub.execute_input": "2021-10-19T18:35:24.641706Z",
     "iopub.status.busy": "2021-10-19T18:35:24.641195Z",
     "iopub.status.idle": "2021-10-19T18:35:24.650177Z",
     "shell.execute_reply": "2021-10-19T18:35:24.649395Z",
     "shell.execute_reply.started": "2021-10-19T18:35:24.641671Z"
    }
   },
   "outputs": [],
   "source": [
    "def read_frames(root_folder,arr,each_nth=10):\n",
    "    videos=[]\n",
    "    for j  in range(len(arr)):\n",
    "        clear_output()\n",
    "        print(np.round(100*j/len(arr),3))\n",
    "            \n",
    "        vcap=cv2.VideoCapture(root_folder+arr[j])\n",
    "        success=True\n",
    "  \n",
    "        frames=[]\n",
    "        cnt=0\n",
    "        while success:\n",
    "            try:\n",
    "                success,image=vcap.read()\n",
    "                cnt+=1\n",
    "                if cnt%each_nth==0:\n",
    "                    image=resize(image,(128,192))\n",
    "                    frames.append(image)\n",
    "            except Exception as e:\n",
    "                print(e)\n",
    "        videos.append(frames)\n",
    "        print(videos)\n",
    "    \n",
    "    return videos"
   ]
  },
  {
   "cell_type": "code",
   "execution_count": null,
   "metadata": {},
   "outputs": [],
   "source": [
    "X_frames = read_frames(\"./input/UCF101/UCF-101/\",content)"
   ]
  },
  {
   "cell_type": "code",
   "execution_count": null,
   "metadata": {},
   "outputs": [],
   "source": [
    "def select_frames(frames_arr , n=10):\n",
    "    videos=[]\n",
    "    for i in range(len(frames_arr)):\n",
    "        frames=[]\n",
    "        for t in np.linspace(0, len(frames_arr[i])-1, num=n):\n",
    "            frames.append(frames_arr[i][int(t)])\n",
    "        videos.append(frames)\n",
    "        \n",
    "    videos = np.array(videos)\n",
    "    print(videos.shape)\n",
    "    return videos"
   ]
  },
  {
   "cell_type": "code",
   "execution_count": null,
   "metadata": {
    "execution": {
     "iopub.execute_input": "2021-10-19T18:35:24.661684Z",
     "iopub.status.busy": "2021-10-19T18:35:24.660819Z",
     "iopub.status.idle": "2021-10-19T18:37:35.503309Z",
     "shell.execute_reply": "2021-10-19T18:37:35.502552Z",
     "shell.execute_reply.started": "2021-10-19T18:35:24.661648Z"
    }
   },
   "outputs": [],
   "source": [
    "X_frames = select_frames(X_frames)"
   ]
  },
  {
   "cell_type": "code",
   "execution_count": null,
   "metadata": {},
   "outputs": [],
   "source": [
    "y = np.array([i//50 for i in range(0,500)])"
   ]
  },
  {
   "cell_type": "code",
   "execution_count": null,
   "metadata": {
    "execution": {
     "iopub.execute_input": "2021-10-19T18:37:35.505070Z",
     "iopub.status.busy": "2021-10-19T18:37:35.504653Z",
     "iopub.status.idle": "2021-10-19T18:37:36.354397Z",
     "shell.execute_reply": "2021-10-19T18:37:36.353652Z",
     "shell.execute_reply.started": "2021-10-19T18:37:35.505034Z"
    }
   },
   "outputs": [],
   "source": [
    "xtr, xte, ytr , yte = train_test_split(X_frames , y , shuffle=True,test_size = 0.2,random_state = 42)"
   ]
  },
  {
   "cell_type": "code",
   "execution_count": null,
   "metadata": {
    "execution": {
     "iopub.execute_input": "2021-10-19T18:37:36.355865Z",
     "iopub.status.busy": "2021-10-19T18:37:36.355616Z",
     "iopub.status.idle": "2021-10-19T18:37:36.361273Z",
     "shell.execute_reply": "2021-10-19T18:37:36.359568Z",
     "shell.execute_reply.started": "2021-10-19T18:37:36.355835Z"
    }
   },
   "outputs": [],
   "source": [
    "ytr = to_categorical(ytr, 10)\n",
    "yte = to_categorical(yte,10)"
   ]
  },
  {
   "cell_type": "markdown",
   "metadata": {},
   "source": [
    "<h1 style=\"text-align: center\"> Random Sample Visualization </h1>"
   ]
  },
  {
   "cell_type": "code",
   "execution_count": null,
   "metadata": {
    "execution": {
     "iopub.execute_input": "2021-10-19T18:42:56.800007Z",
     "iopub.status.busy": "2021-10-19T18:42:56.799397Z",
     "iopub.status.idle": "2021-10-19T18:42:58.760625Z",
     "shell.execute_reply": "2021-10-19T18:42:58.759978Z",
     "shell.execute_reply.started": "2021-10-19T18:42:56.799963Z"
    }
   },
   "outputs": [],
   "source": [
    "fig = plt.figure(figsize=(32,8))\n",
    "\n",
    "random_video_index = np.random.randint(0,len(X_frames))\n",
    "\n",
    "for i,image in enumerate(X_frames[random_video_index]):\n",
    "    ax = plt.subplot(2,5,i+1)\n",
    "    imshow(image)"
   ]
  },
  {
   "cell_type": "markdown",
   "metadata": {},
   "source": [
    "<h1 style=\"text-align: center\"> Building model </h1>"
   ]
  },
  {
   "cell_type": "code",
   "execution_count": null,
   "metadata": {
    "execution": {
     "iopub.execute_input": "2021-10-19T18:37:38.426107Z",
     "iopub.status.busy": "2021-10-19T18:37:38.425830Z",
     "iopub.status.idle": "2021-10-19T18:37:38.430845Z",
     "shell.execute_reply": "2021-10-19T18:37:38.429394Z",
     "shell.execute_reply.started": "2021-10-19T18:37:38.426068Z"
    }
   },
   "outputs": [],
   "source": [
    "def list_to_stack(xs):\n",
    "  xs=tf.stack(xs, axis=1)\n",
    "  s = tf.shape(xs)\n",
    " \n",
    "  return xs"
   ]
  },
  {
   "cell_type": "code",
   "execution_count": null,
   "metadata": {
    "execution": {
     "iopub.execute_input": "2021-10-19T18:39:32.575267Z",
     "iopub.status.busy": "2021-10-19T18:39:32.574689Z",
     "iopub.status.idle": "2021-10-19T18:39:33.585947Z",
     "shell.execute_reply": "2021-10-19T18:39:33.583581Z",
     "shell.execute_reply.started": "2021-10-19T18:39:32.575229Z"
    }
   },
   "outputs": [],
   "source": [
    "ish=(10, 128, 192, 3)\n",
    "  \n",
    "xs=[]\n",
    "\n",
    "\n",
    "inp = Input(ish)\n",
    "\n",
    "for slice_indx in range(0,10,1):\n",
    "  x=Lambda(lambda x: x[:, slice_indx])(inp)\n",
    "  x=BatchNormalization(momentum=0.8)(x)\n",
    "  x=Conv2D(filters=20, kernel_size=3, padding='same', activation='relu')(x)\n",
    "  x=BatchNormalization(momentum=0.8)(x)\n",
    "  x=MaxPooling2D(pool_size=2)(x)\n",
    "  \n",
    "  x=Conv2D(filters=30, kernel_size=3, padding='same', activation='relu')(x)\n",
    "  x=BatchNormalization(momentum=0.8)(x)\n",
    "  x=MaxPooling2D(pool_size=2)(x)\n",
    "  x=Conv2D(filters=30, kernel_size=3, padding='same', activation='relu')(x)\n",
    "    \n",
    "  xs.append(x)\n",
    "  \n",
    "\n",
    "t=Lambda(list_to_stack)(xs)\n",
    "t=Conv3D(50,3,padding='same')(t)\n",
    "t=BatchNormalization(momentum=0.8)(t)\n",
    "target_shape=(10,32*48*50)\n",
    "t=Reshape(target_shape)(t)\n",
    "t=GRU(25, return_sequences=True)(t)\n",
    "t=GRU(50, return_sequences=False,dropout=0.5)(t)\n",
    "\n",
    "t=Dense(100,'relu')(t)\n",
    "out=Dense(10, activation='softmax')(t)\n",
    "\n",
    "model = Model(inputs=inp, outputs=out)\n",
    "opt = tf.keras.optimizers.SGD(lr=0.0087)\n",
    "model.compile(loss = \"categorical_crossentropy\", optimizer = opt, metrics=['accuracy'])\n",
    "model.summary()"
   ]
  },
  {
   "cell_type": "markdown",
   "metadata": {},
   "source": [
    "<p style=\"font-size: 120%\"><b> Model design </b></p>"
   ]
  },
  {
   "cell_type": "code",
   "execution_count": null,
   "metadata": {
    "execution": {
     "iopub.execute_input": "2021-10-19T18:37:41.445809Z",
     "iopub.status.busy": "2021-10-19T18:37:41.445571Z",
     "iopub.status.idle": "2021-10-19T18:37:43.280130Z",
     "shell.execute_reply": "2021-10-19T18:37:43.279421Z",
     "shell.execute_reply.started": "2021-10-19T18:37:41.445775Z"
    }
   },
   "outputs": [],
   "source": [
    "from tensorflow.keras.utils import plot_model\n",
    "plot_model(model, to_file='model.png', show_shapes=True, show_layer_names=True)"
   ]
  },
  {
   "cell_type": "markdown",
   "metadata": {},
   "source": [
    "<p style=\"font-size: 120%\"> <b> Training model </b></p>"
   ]
  },
  {
   "cell_type": "code",
   "execution_count": null,
   "metadata": {
    "execution": {
     "iopub.execute_input": "2021-10-19T18:39:41.873068Z",
     "iopub.status.busy": "2021-10-19T18:39:41.872781Z",
     "iopub.status.idle": "2021-10-19T18:40:05.300789Z",
     "shell.execute_reply": "2021-10-19T18:40:05.300047Z",
     "shell.execute_reply.started": "2021-10-19T18:39:41.873041Z"
    }
   },
   "outputs": [],
   "source": [
    "history = model.fit(xtr, ytr, epochs=5, batch_size=10,validation_data=(xte, yte),shuffle  = True)"
   ]
  },
  {
   "cell_type": "markdown",
   "metadata": {},
   "source": [
    "<p style=\"font-size: 120%;\"> <b>Training model </b></p>"
   ]
  },
  {
   "cell_type": "markdown",
   "metadata": {},
   "source": [
    "<h1 style=\"text-align: center\"> Model performance Visualization <h1> "
   ]
  },
  {
   "cell_type": "code",
   "execution_count": null,
   "metadata": {
    "execution": {
     "iopub.execute_input": "2021-10-19T18:40:52.846418Z",
     "iopub.status.busy": "2021-10-19T18:40:52.846139Z",
     "iopub.status.idle": "2021-10-19T18:40:53.174350Z",
     "shell.execute_reply": "2021-10-19T18:40:53.173689Z",
     "shell.execute_reply.started": "2021-10-19T18:40:52.846389Z"
    }
   },
   "outputs": [],
   "source": [
    "fig = plt.figure(figsize=(14,6))\n",
    "\n",
    "ax = plt.subplot(1,2,1)\n",
    "plt.plot(history.history['loss'], label='Training loss')\n",
    "ax.legend(loc=\"upper left\")\n",
    "plt.ylabel('Loss')\n",
    "plt.xlabel('No. epoch')\n",
    "ax = plt.subplot(1,2,2)\n",
    "plt.plot(history.history['val_loss'], label='Vallidation loss')\n",
    "ax.legend(loc=\"upper left\")\n",
    "fig.suptitle('Model loss')\n",
    "plt.ylabel('Loss')\n",
    "plt.xlabel('No. epoch')\n",
    "plt.show()"
   ]
  },
  {
   "cell_type": "code",
   "execution_count": null,
   "metadata": {
    "execution": {
     "iopub.execute_input": "2021-10-19T18:40:58.963339Z",
     "iopub.status.busy": "2021-10-19T18:40:58.962654Z",
     "iopub.status.idle": "2021-10-19T18:40:59.311163Z",
     "shell.execute_reply": "2021-10-19T18:40:59.310486Z",
     "shell.execute_reply.started": "2021-10-19T18:40:58.963304Z"
    }
   },
   "outputs": [],
   "source": [
    "fig = plt.figure(figsize=(14,6))\n",
    "\n",
    "ax = plt.subplot(1,2,1)\n",
    "plt.plot(history.history['accuracy'], label='Training accuracy')\n",
    "ax.legend(loc=\"upper left\")\n",
    "plt.ylabel('Accuracy')\n",
    "plt.xlabel('No. epoch')\n",
    "ax = plt.subplot(1,2,2)\n",
    "plt.plot(history.history['val_accuracy'], label='Vallidation accuracy')\n",
    "ax.legend(loc=\"upper left\")\n",
    "fig.suptitle('Model Accuracy')\n",
    "plt.ylabel('Accuracy')\n",
    "plt.xlabel('No. epoch')\n",
    "plt.show()"
   ]
  },
  {
   "cell_type": "markdown",
   "metadata": {},
   "source": [
    "<h1 style=\"text-align: center\"> Model demonstration </h1> "
   ]
  },
  {
   "cell_type": "code",
   "execution_count": null,
   "metadata": {
    "execution": {
     "iopub.execute_input": "2021-10-19T18:45:25.123097Z",
     "iopub.status.busy": "2021-10-19T18:45:25.122479Z",
     "iopub.status.idle": "2021-10-19T18:45:25.129118Z",
     "shell.execute_reply": "2021-10-19T18:45:25.128165Z",
     "shell.execute_reply.started": "2021-10-19T18:45:25.123057Z"
    }
   },
   "outputs": [],
   "source": [
    "classes = []\n",
    "for i in range(len(content)):\n",
    "    class_name = content[i].split('/')[0]\n",
    "    if class_name not in classes:\n",
    "        classes.append(class_name)\n",
    "        \n",
    "num_classes = [i for i in range(10)]\n",
    "class_map = dict(zip(num_classes,classes))"
   ]
  },
  {
   "cell_type": "code",
   "execution_count": null,
   "metadata": {
    "execution": {
     "iopub.execute_input": "2021-10-19T18:46:14.368061Z",
     "iopub.status.busy": "2021-10-19T18:46:14.367553Z",
     "iopub.status.idle": "2021-10-19T18:46:14.478281Z",
     "shell.execute_reply": "2021-10-19T18:46:14.477544Z",
     "shell.execute_reply.started": "2021-10-19T18:46:14.368027Z"
    }
   },
   "outputs": [],
   "source": [
    "random_videos = np.random.randint(0,len(xte),size=(10))\n",
    "predicted  = model.predict(xte[random_videos],batch_size = 10)\n",
    "predicted  = np.argmax(predicted,axis=1)"
   ]
  },
  {
   "cell_type": "code",
   "execution_count": null,
   "metadata": {
    "execution": {
     "iopub.execute_input": "2021-10-19T18:46:17.789946Z",
     "iopub.status.busy": "2021-10-19T18:46:17.789438Z",
     "iopub.status.idle": "2021-10-19T18:46:19.493833Z",
     "shell.execute_reply": "2021-10-19T18:46:19.492166Z",
     "shell.execute_reply.started": "2021-10-19T18:46:17.789910Z"
    }
   },
   "outputs": [],
   "source": [
    "fig = plt.figure(figsize=(30,10))\n",
    "\n",
    "for i,rand_indx in enumerate(random_videos):\n",
    "    ax = plt.subplot(2,5,i+1)\n",
    "    video = xte[rand_indx]\n",
    "    frame = video[np.random.randint(0,10)]\n",
    "    ax.set_title(class_map[predicted[i]])\n",
    "    imshow(frame)"
   ]
  }
 ],
 "metadata": {
  "kernelspec": {
   "display_name": "Python 3 (ipykernel)",
   "language": "python",
   "name": "python3"
  },
  "language_info": {
   "codemirror_mode": {
    "name": "ipython",
    "version": 3
   },
   "file_extension": ".py",
   "mimetype": "text/x-python",
   "name": "python",
   "nbconvert_exporter": "python",
   "pygments_lexer": "ipython3",
   "version": "3.10.4"
  }
 },
 "nbformat": 4,
 "nbformat_minor": 4
}
